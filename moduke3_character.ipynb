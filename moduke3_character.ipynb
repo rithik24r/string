{
  "nbformat": 4,
  "nbformat_minor": 0,
  "metadata": {
    "colab": {
      "name": "Untitled4.ipynb",
      "provenance": []
    },
    "kernelspec": {
      "name": "python3",
      "display_name": "Python 3"
    }
  },
  "cells": [
    {
      "cell_type": "code",
      "metadata": {
        "id": "vRw12kNP0Cuv",
        "colab_type": "code",
        "colab": {
          "base_uri": "https://localhost:8080/",
          "height": 35
        },
        "outputId": "7bbeff4e-d670-461f-e7cb-a3e308c9d949"
      },
      "source": [
        "#occurances of a sub string in a string\n",
        "str=\"python is awesome\"\n",
        "substr=\"is\"\n",
        "count=str.count(substr)\n",
        "print(\"the count is\",count)"
      ],
      "execution_count": 4,
      "outputs": [
        {
          "output_type": "stream",
          "text": [
            "the count is 1\n"
          ],
          "name": "stdout"
        }
      ]
    },
    {
      "cell_type": "code",
      "metadata": {
        "id": "Ujj0tQC802Td",
        "colab_type": "code",
        "colab": {
          "base_uri": "https://localhost:8080/",
          "height": 35
        },
        "outputId": "3dfe07fc-394d-40e2-db1a-e66ca1804b3c"
      },
      "source": [
        "#string to a list\n",
        "def convert(string):\n",
        "                     li=list(string.split(\" \"))\n",
        "                     return li\n",
        "str1=\"geeks for geeks\"\n",
        "print(convert(str1))"
      ],
      "execution_count": 5,
      "outputs": [
        {
          "output_type": "stream",
          "text": [
            "['geeks', 'for', 'geeks']\n"
          ],
          "name": "stdout"
        }
      ]
    },
    {
      "cell_type": "code",
      "metadata": {
        "id": "KlTjlXXf1yMi",
        "colab_type": "code",
        "colab": {
          "base_uri": "https://localhost:8080/",
          "height": 35
        },
        "outputId": "734c1c9c-3d04-4912-9a83-757c3413647c"
      },
      "source": [
        "#deletion of a character\n",
        "str=\"geeksforgeeks\"\n",
        "new_str=\" \"\n",
        "for i in range(len(str)):\n",
        "                          if i!=2:\n",
        "                                     new_str=new_str + str[i]\n",
        "print(\"the string after removal of ith character :\"+ new_str)"
      ],
      "execution_count": 6,
      "outputs": [
        {
          "output_type": "stream",
          "text": [
            "the string after removal of ith character : geksforgeeks\n"
          ],
          "name": "stdout"
        }
      ]
    },
    {
      "cell_type": "code",
      "metadata": {
        "id": "TWdS0Vvi20T1",
        "colab_type": "code",
        "colab": {
          "base_uri": "https://localhost:8080/",
          "height": 109
        },
        "outputId": "d5dd5456-e442-400a-a7fb-62a01f495598"
      },
      "source": [
        "#new line character\n",
        "str=\"hello\"\n",
        "for index,letter in enumerate(str,1):\n",
        "                                        print(index,\":\",letter)"
      ],
      "execution_count": 8,
      "outputs": [
        {
          "output_type": "stream",
          "text": [
            "1 : h\n",
            "2 : e\n",
            "3 : l\n",
            "4 : l\n",
            "5 : o\n"
          ],
          "name": "stdout"
        }
      ]
    },
    {
      "cell_type": "code",
      "metadata": {
        "id": "z184Ab5l3lo8",
        "colab_type": "code",
        "colab": {
          "base_uri": "https://localhost:8080/",
          "height": 54
        },
        "outputId": "0c490718-3831-4336-93b6-62eb21f601c7"
      },
      "source": [
        "#without using length function\n",
        "str=input(\"enter the string\")\n",
        "count=0\n",
        "for s in str:\n",
        "              count=count+1\n",
        "print(\"length of input string is:\",count)"
      ],
      "execution_count": 15,
      "outputs": [
        {
          "output_type": "stream",
          "text": [
            "enter the stringrefrigerator\n",
            "length of input string is: 12\n"
          ],
          "name": "stdout"
        }
      ]
    },
    {
      "cell_type": "code",
      "metadata": {
        "id": "VR_Xjjzv5HGl",
        "colab_type": "code",
        "colab": {
          "base_uri": "https://localhost:8080/",
          "height": 72
        },
        "outputId": "566aed4e-4830-489d-b0c6-d5d2f51b796f"
      },
      "source": [
        "#to remove a newline in python\n",
        "str=\"abc\\n\"\n",
        "print(str)\n",
        "str=str.rstrip(\"\\n\")\n",
        "print(str)"
      ],
      "execution_count": 16,
      "outputs": [
        {
          "output_type": "stream",
          "text": [
            "abc\n",
            "\n",
            "abc\n"
          ],
          "name": "stdout"
        }
      ]
    }
  ]
}